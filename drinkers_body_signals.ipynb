{
 "cells": [
  {
   "cell_type": "code",
   "execution_count": 2,
   "metadata": {
    "ExecuteTime": {
     "end_time": "2023-11-29T09:22:44.171699300Z",
     "start_time": "2023-11-29T09:22:42.554434500Z"
    }
   },
   "outputs": [],
   "source": [
    "import math\n",
    "\n",
    "import fcalc\n",
    "import pandas as pd\n",
    "import numpy as np\n",
    "from sklearn.metrics import accuracy_score, f1_score\n",
    "from sklearn.model_selection import train_test_split"
   ]
  },
  {
   "cell_type": "markdown",
   "metadata": {},
   "source": [
    "# Binarized data"
   ]
  },
  {
   "cell_type": "code",
   "execution_count": 3,
   "metadata": {
    "ExecuteTime": {
     "end_time": "2023-11-29T09:22:44.210120200Z",
     "start_time": "2023-11-29T09:22:44.174147800Z"
    }
   },
   "outputs": [
    {
     "data": {
      "text/plain": "    sex  age  height  weight  waistline  sight_left  sight_right  hear_left  \\\n0  Male   35     170      75       90.0         1.0          1.0        1.0   \n1  Male   30     180      80       89.0         0.9          1.2        1.0   \n2  Male   40     165      75       91.0         1.2          1.5        1.0   \n3  Male   50     175      80       91.0         1.5          1.2        1.0   \n4  Male   50     165      60       80.0         1.0          1.2        1.0   \n\n   hear_right    SBP  ...  HDL_chole  LDL_chole  triglyceride  hemoglobin  \\\n0         1.0  120.0  ...       48.0      126.0          92.0        17.1   \n1         1.0  130.0  ...       55.0      148.0         121.0        15.8   \n2         1.0  120.0  ...       41.0       74.0         104.0        15.8   \n3         1.0  145.0  ...       76.0      104.0         106.0        17.6   \n4         1.0  138.0  ...       61.0      117.0         104.0        13.8   \n\n   urine_protein  serum_creatinine  SGOT_AST  SGOT_ALT  gamma_GTP  DRK_YN  \n0            1.0               1.0      21.0      35.0       40.0    True  \n1            1.0               0.9      20.0      36.0       27.0   False  \n2            1.0               0.9      47.0      32.0       68.0   False  \n3            1.0               1.1      29.0      34.0       18.0   False  \n4            1.0               0.8      19.0      12.0       25.0   False  \n\n[5 rows x 23 columns]",
      "text/html": "<div>\n<style scoped>\n    .dataframe tbody tr th:only-of-type {\n        vertical-align: middle;\n    }\n\n    .dataframe tbody tr th {\n        vertical-align: top;\n    }\n\n    .dataframe thead th {\n        text-align: right;\n    }\n</style>\n<table border=\"1\" class=\"dataframe\">\n  <thead>\n    <tr style=\"text-align: right;\">\n      <th></th>\n      <th>sex</th>\n      <th>age</th>\n      <th>height</th>\n      <th>weight</th>\n      <th>waistline</th>\n      <th>sight_left</th>\n      <th>sight_right</th>\n      <th>hear_left</th>\n      <th>hear_right</th>\n      <th>SBP</th>\n      <th>...</th>\n      <th>HDL_chole</th>\n      <th>LDL_chole</th>\n      <th>triglyceride</th>\n      <th>hemoglobin</th>\n      <th>urine_protein</th>\n      <th>serum_creatinine</th>\n      <th>SGOT_AST</th>\n      <th>SGOT_ALT</th>\n      <th>gamma_GTP</th>\n      <th>DRK_YN</th>\n    </tr>\n  </thead>\n  <tbody>\n    <tr>\n      <th>0</th>\n      <td>Male</td>\n      <td>35</td>\n      <td>170</td>\n      <td>75</td>\n      <td>90.0</td>\n      <td>1.0</td>\n      <td>1.0</td>\n      <td>1.0</td>\n      <td>1.0</td>\n      <td>120.0</td>\n      <td>...</td>\n      <td>48.0</td>\n      <td>126.0</td>\n      <td>92.0</td>\n      <td>17.1</td>\n      <td>1.0</td>\n      <td>1.0</td>\n      <td>21.0</td>\n      <td>35.0</td>\n      <td>40.0</td>\n      <td>True</td>\n    </tr>\n    <tr>\n      <th>1</th>\n      <td>Male</td>\n      <td>30</td>\n      <td>180</td>\n      <td>80</td>\n      <td>89.0</td>\n      <td>0.9</td>\n      <td>1.2</td>\n      <td>1.0</td>\n      <td>1.0</td>\n      <td>130.0</td>\n      <td>...</td>\n      <td>55.0</td>\n      <td>148.0</td>\n      <td>121.0</td>\n      <td>15.8</td>\n      <td>1.0</td>\n      <td>0.9</td>\n      <td>20.0</td>\n      <td>36.0</td>\n      <td>27.0</td>\n      <td>False</td>\n    </tr>\n    <tr>\n      <th>2</th>\n      <td>Male</td>\n      <td>40</td>\n      <td>165</td>\n      <td>75</td>\n      <td>91.0</td>\n      <td>1.2</td>\n      <td>1.5</td>\n      <td>1.0</td>\n      <td>1.0</td>\n      <td>120.0</td>\n      <td>...</td>\n      <td>41.0</td>\n      <td>74.0</td>\n      <td>104.0</td>\n      <td>15.8</td>\n      <td>1.0</td>\n      <td>0.9</td>\n      <td>47.0</td>\n      <td>32.0</td>\n      <td>68.0</td>\n      <td>False</td>\n    </tr>\n    <tr>\n      <th>3</th>\n      <td>Male</td>\n      <td>50</td>\n      <td>175</td>\n      <td>80</td>\n      <td>91.0</td>\n      <td>1.5</td>\n      <td>1.2</td>\n      <td>1.0</td>\n      <td>1.0</td>\n      <td>145.0</td>\n      <td>...</td>\n      <td>76.0</td>\n      <td>104.0</td>\n      <td>106.0</td>\n      <td>17.6</td>\n      <td>1.0</td>\n      <td>1.1</td>\n      <td>29.0</td>\n      <td>34.0</td>\n      <td>18.0</td>\n      <td>False</td>\n    </tr>\n    <tr>\n      <th>4</th>\n      <td>Male</td>\n      <td>50</td>\n      <td>165</td>\n      <td>60</td>\n      <td>80.0</td>\n      <td>1.0</td>\n      <td>1.2</td>\n      <td>1.0</td>\n      <td>1.0</td>\n      <td>138.0</td>\n      <td>...</td>\n      <td>61.0</td>\n      <td>117.0</td>\n      <td>104.0</td>\n      <td>13.8</td>\n      <td>1.0</td>\n      <td>0.8</td>\n      <td>19.0</td>\n      <td>12.0</td>\n      <td>25.0</td>\n      <td>False</td>\n    </tr>\n  </tbody>\n</table>\n<p>5 rows × 23 columns</p>\n</div>"
     },
     "execution_count": 3,
     "metadata": {},
     "output_type": "execute_result"
    }
   ],
   "source": [
    "df = pd.read_csv(\"data/DrinkersBodySignals.csv\").drop([\"SMK_stat_type_cd\"], axis=1)\n",
    "df[\"DRK_YN\"] = df[\"DRK_YN\"].map(lambda val: val == \"Y\")\n",
    "column_names = df.columns.values\n",
    "df.head()"
   ]
  },
  {
   "cell_type": "code",
   "execution_count": 4,
   "metadata": {
    "ExecuteTime": {
     "end_time": "2023-11-29T09:22:45.874911500Z",
     "start_time": "2023-11-29T09:22:45.850326Z"
    }
   },
   "outputs": [
    {
     "data": {
      "text/plain": "        sex  waistline  sight_left  sight_right  hear_left  hear_right    SBP  \\\n0      True       True        True        False      False       False  False   \n1      True       True       False         True      False       False   True   \n2      True       True        True         True      False       False  False   \n3      True       True        True         True      False       False   True   \n4      True      False        True         True      False       False   True   \n...     ...        ...         ...          ...        ...         ...    ...   \n1495   True       True       False        False      False       False  False   \n1496   True      False        True         True      False       False   True   \n1497  False      False       False        False      False       False  False   \n1498   True       True        True        False      False       False   True   \n1499   True      False       False        False      False       False  False   \n\n        DBP   BLDS  tot_chole  ...  age_0  age_1  age_2  age_3  age_4  age_5  \\\n0      True  False      False  ...  False  False  False   True  False  False   \n1      True   True       True  ...  False  False  False   True  False  False   \n2     False  False      False  ...  False  False  False  False   True  False   \n3      True  False       True  ...  False  False  False  False  False   True   \n4      True   True       True  ...  False  False  False  False  False   True   \n...     ...    ...        ...  ...    ...    ...    ...    ...    ...    ...   \n1495  False  False       True  ...  False  False  False  False  False   True   \n1496   True  False       True  ...  False  False  False  False  False   True   \n1497  False  False       True  ...  False  False  False   True  False  False   \n1498   True   True       True  ...  False  False  False  False   True  False   \n1499  False  False       True  ...  False  False  False  False  False   True   \n\n      age_6  age_7  age_8  age_9  \n0     False  False  False  False  \n1     False  False  False  False  \n2     False  False  False  False  \n3     False  False  False  False  \n4     False  False  False  False  \n...     ...    ...    ...    ...  \n1495  False  False  False  False  \n1496  False  False  False  False  \n1497  False  False  False  False  \n1498  False  False  False  False  \n1499  False  False  False  False  \n\n[1500 rows x 30 columns]",
      "text/html": "<div>\n<style scoped>\n    .dataframe tbody tr th:only-of-type {\n        vertical-align: middle;\n    }\n\n    .dataframe tbody tr th {\n        vertical-align: top;\n    }\n\n    .dataframe thead th {\n        text-align: right;\n    }\n</style>\n<table border=\"1\" class=\"dataframe\">\n  <thead>\n    <tr style=\"text-align: right;\">\n      <th></th>\n      <th>sex</th>\n      <th>waistline</th>\n      <th>sight_left</th>\n      <th>sight_right</th>\n      <th>hear_left</th>\n      <th>hear_right</th>\n      <th>SBP</th>\n      <th>DBP</th>\n      <th>BLDS</th>\n      <th>tot_chole</th>\n      <th>...</th>\n      <th>age_0</th>\n      <th>age_1</th>\n      <th>age_2</th>\n      <th>age_3</th>\n      <th>age_4</th>\n      <th>age_5</th>\n      <th>age_6</th>\n      <th>age_7</th>\n      <th>age_8</th>\n      <th>age_9</th>\n    </tr>\n  </thead>\n  <tbody>\n    <tr>\n      <th>0</th>\n      <td>True</td>\n      <td>True</td>\n      <td>True</td>\n      <td>False</td>\n      <td>False</td>\n      <td>False</td>\n      <td>False</td>\n      <td>True</td>\n      <td>False</td>\n      <td>False</td>\n      <td>...</td>\n      <td>False</td>\n      <td>False</td>\n      <td>False</td>\n      <td>True</td>\n      <td>False</td>\n      <td>False</td>\n      <td>False</td>\n      <td>False</td>\n      <td>False</td>\n      <td>False</td>\n    </tr>\n    <tr>\n      <th>1</th>\n      <td>True</td>\n      <td>True</td>\n      <td>False</td>\n      <td>True</td>\n      <td>False</td>\n      <td>False</td>\n      <td>True</td>\n      <td>True</td>\n      <td>True</td>\n      <td>True</td>\n      <td>...</td>\n      <td>False</td>\n      <td>False</td>\n      <td>False</td>\n      <td>True</td>\n      <td>False</td>\n      <td>False</td>\n      <td>False</td>\n      <td>False</td>\n      <td>False</td>\n      <td>False</td>\n    </tr>\n    <tr>\n      <th>2</th>\n      <td>True</td>\n      <td>True</td>\n      <td>True</td>\n      <td>True</td>\n      <td>False</td>\n      <td>False</td>\n      <td>False</td>\n      <td>False</td>\n      <td>False</td>\n      <td>False</td>\n      <td>...</td>\n      <td>False</td>\n      <td>False</td>\n      <td>False</td>\n      <td>False</td>\n      <td>True</td>\n      <td>False</td>\n      <td>False</td>\n      <td>False</td>\n      <td>False</td>\n      <td>False</td>\n    </tr>\n    <tr>\n      <th>3</th>\n      <td>True</td>\n      <td>True</td>\n      <td>True</td>\n      <td>True</td>\n      <td>False</td>\n      <td>False</td>\n      <td>True</td>\n      <td>True</td>\n      <td>False</td>\n      <td>True</td>\n      <td>...</td>\n      <td>False</td>\n      <td>False</td>\n      <td>False</td>\n      <td>False</td>\n      <td>False</td>\n      <td>True</td>\n      <td>False</td>\n      <td>False</td>\n      <td>False</td>\n      <td>False</td>\n    </tr>\n    <tr>\n      <th>4</th>\n      <td>True</td>\n      <td>False</td>\n      <td>True</td>\n      <td>True</td>\n      <td>False</td>\n      <td>False</td>\n      <td>True</td>\n      <td>True</td>\n      <td>True</td>\n      <td>True</td>\n      <td>...</td>\n      <td>False</td>\n      <td>False</td>\n      <td>False</td>\n      <td>False</td>\n      <td>False</td>\n      <td>True</td>\n      <td>False</td>\n      <td>False</td>\n      <td>False</td>\n      <td>False</td>\n    </tr>\n    <tr>\n      <th>...</th>\n      <td>...</td>\n      <td>...</td>\n      <td>...</td>\n      <td>...</td>\n      <td>...</td>\n      <td>...</td>\n      <td>...</td>\n      <td>...</td>\n      <td>...</td>\n      <td>...</td>\n      <td>...</td>\n      <td>...</td>\n      <td>...</td>\n      <td>...</td>\n      <td>...</td>\n      <td>...</td>\n      <td>...</td>\n      <td>...</td>\n      <td>...</td>\n      <td>...</td>\n      <td>...</td>\n    </tr>\n    <tr>\n      <th>1495</th>\n      <td>True</td>\n      <td>True</td>\n      <td>False</td>\n      <td>False</td>\n      <td>False</td>\n      <td>False</td>\n      <td>False</td>\n      <td>False</td>\n      <td>False</td>\n      <td>True</td>\n      <td>...</td>\n      <td>False</td>\n      <td>False</td>\n      <td>False</td>\n      <td>False</td>\n      <td>False</td>\n      <td>True</td>\n      <td>False</td>\n      <td>False</td>\n      <td>False</td>\n      <td>False</td>\n    </tr>\n    <tr>\n      <th>1496</th>\n      <td>True</td>\n      <td>False</td>\n      <td>True</td>\n      <td>True</td>\n      <td>False</td>\n      <td>False</td>\n      <td>True</td>\n      <td>True</td>\n      <td>False</td>\n      <td>True</td>\n      <td>...</td>\n      <td>False</td>\n      <td>False</td>\n      <td>False</td>\n      <td>False</td>\n      <td>False</td>\n      <td>True</td>\n      <td>False</td>\n      <td>False</td>\n      <td>False</td>\n      <td>False</td>\n    </tr>\n    <tr>\n      <th>1497</th>\n      <td>False</td>\n      <td>False</td>\n      <td>False</td>\n      <td>False</td>\n      <td>False</td>\n      <td>False</td>\n      <td>False</td>\n      <td>False</td>\n      <td>False</td>\n      <td>True</td>\n      <td>...</td>\n      <td>False</td>\n      <td>False</td>\n      <td>False</td>\n      <td>True</td>\n      <td>False</td>\n      <td>False</td>\n      <td>False</td>\n      <td>False</td>\n      <td>False</td>\n      <td>False</td>\n    </tr>\n    <tr>\n      <th>1498</th>\n      <td>True</td>\n      <td>True</td>\n      <td>True</td>\n      <td>False</td>\n      <td>False</td>\n      <td>False</td>\n      <td>True</td>\n      <td>True</td>\n      <td>True</td>\n      <td>True</td>\n      <td>...</td>\n      <td>False</td>\n      <td>False</td>\n      <td>False</td>\n      <td>False</td>\n      <td>True</td>\n      <td>False</td>\n      <td>False</td>\n      <td>False</td>\n      <td>False</td>\n      <td>False</td>\n    </tr>\n    <tr>\n      <th>1499</th>\n      <td>True</td>\n      <td>False</td>\n      <td>False</td>\n      <td>False</td>\n      <td>False</td>\n      <td>False</td>\n      <td>False</td>\n      <td>False</td>\n      <td>False</td>\n      <td>True</td>\n      <td>...</td>\n      <td>False</td>\n      <td>False</td>\n      <td>False</td>\n      <td>False</td>\n      <td>False</td>\n      <td>True</td>\n      <td>False</td>\n      <td>False</td>\n      <td>False</td>\n      <td>False</td>\n    </tr>\n  </tbody>\n</table>\n<p>1500 rows × 30 columns</p>\n</div>"
     },
     "execution_count": 4,
     "metadata": {},
     "output_type": "execute_result"
    }
   ],
   "source": [
    "df[\"bmi\"] = (df[\"weight\"].to_numpy() * 10000) / np.square(df[\"height\"].to_numpy())\n",
    "df[\"sex\"] = df[\"sex\"].map(lambda val: val == \"Male\")\n",
    "\n",
    "for age_group in range(0, 10):\n",
    "    df[f\"age_{age_group}\"] = df[\"age\"].map(\n",
    "        lambda val: math.floor(val / 10) == age_group\n",
    "    )\n",
    "    \n",
    "for column in [\n",
    "    \"waistline\",\n",
    "    \"sight_left\",\n",
    "    \"sight_right\",\n",
    "    \"hear_left\",\n",
    "    \"hear_right\",\n",
    "    \"SBP\",\n",
    "    \"DBP\",\n",
    "    \"BLDS\",\n",
    "    \"tot_chole\",\n",
    "    \"HDL_chole\",\n",
    "    \"LDL_chole\",\n",
    "    \"triglyceride\",\n",
    "    \"hemoglobin\",\n",
    "    \"urine_protein\",\n",
    "    \"serum_creatinine\",\n",
    "    \"SGOT_AST\",\n",
    "    \"SGOT_ALT\",\n",
    "    \"gamma_GTP\",\n",
    "    \"bmi\"\n",
    "]:\n",
    "    mean = df[column].mean()\n",
    "    df[column] = df[column].map(lambda val: val > mean)\n",
    "    \n",
    "X = df.drop([\"age\", \"height\", \"weight\", \"DRK_YN\"], axis=1)\n",
    "y = df[\"DRK_YN\"]\n",
    "\n",
    "X_train, X_test, y_train, y_test = train_test_split(X, y, test_size=0.3, random_state=42)\n",
    "X"
   ]
  },
  {
   "cell_type": "code",
   "execution_count": 5,
   "metadata": {
    "ExecuteTime": {
     "end_time": "2023-11-29T09:22:47.102414700Z",
     "start_time": "2023-11-29T09:22:47.087777700Z"
    }
   },
   "outputs": [],
   "source": [
    "bin_cls = fcalc.classifier.BinarizedBinaryClassifier(\n",
    "    X_train.values, y_train.to_numpy(), method=\"standard\", alpha=0.1\n",
    ")"
   ]
  },
  {
   "cell_type": "code",
   "execution_count": 6,
   "metadata": {
    "ExecuteTime": {
     "end_time": "2023-11-29T09:22:55.149948200Z",
     "start_time": "2023-11-29T09:22:47.794806Z"
    }
   },
   "outputs": [],
   "source": [
    "bin_cls.predict(X_test.values)"
   ]
  },
  {
   "cell_type": "code",
   "execution_count": 7,
   "metadata": {
    "ExecuteTime": {
     "end_time": "2023-11-29T09:22:57.111325400Z",
     "start_time": "2023-11-29T09:22:57.059020800Z"
    }
   },
   "outputs": [
    {
     "name": "stdout",
     "output_type": "stream",
     "text": [
      "0.5644444444444444\n",
      "0.4431481481481481\n"
     ]
    }
   ],
   "source": [
    "print(accuracy_score(y_test, bin_cls.predictions))\n",
    "print(f1_score(y_test, bin_cls.predictions, average=\"weighted\"))"
   ]
  },
  {
   "cell_type": "markdown",
   "metadata": {},
   "source": [
    "# Pattern structures"
   ]
  },
  {
   "cell_type": "code",
   "execution_count": 8,
   "metadata": {
    "ExecuteTime": {
     "end_time": "2023-11-29T09:23:01.154825200Z",
     "start_time": "2023-11-29T09:23:01.128061Z"
    }
   },
   "outputs": [
    {
     "data": {
      "text/plain": "    sex  age  height  weight  waistline  sight_left  sight_right  hear_left  \\\n0  Male   35     170      75       90.0         1.0          1.0        1.0   \n1  Male   30     180      80       89.0         0.9          1.2        1.0   \n2  Male   40     165      75       91.0         1.2          1.5        1.0   \n3  Male   50     175      80       91.0         1.5          1.2        1.0   \n4  Male   50     165      60       80.0         1.0          1.2        1.0   \n\n   hear_right    SBP  ...  HDL_chole  LDL_chole  triglyceride  hemoglobin  \\\n0         1.0  120.0  ...       48.0      126.0          92.0        17.1   \n1         1.0  130.0  ...       55.0      148.0         121.0        15.8   \n2         1.0  120.0  ...       41.0       74.0         104.0        15.8   \n3         1.0  145.0  ...       76.0      104.0         106.0        17.6   \n4         1.0  138.0  ...       61.0      117.0         104.0        13.8   \n\n   urine_protein  serum_creatinine  SGOT_AST  SGOT_ALT  gamma_GTP  DRK_YN  \n0            1.0               1.0      21.0      35.0       40.0    True  \n1            1.0               0.9      20.0      36.0       27.0   False  \n2            1.0               0.9      47.0      32.0       68.0   False  \n3            1.0               1.1      29.0      34.0       18.0   False  \n4            1.0               0.8      19.0      12.0       25.0   False  \n\n[5 rows x 23 columns]",
      "text/html": "<div>\n<style scoped>\n    .dataframe tbody tr th:only-of-type {\n        vertical-align: middle;\n    }\n\n    .dataframe tbody tr th {\n        vertical-align: top;\n    }\n\n    .dataframe thead th {\n        text-align: right;\n    }\n</style>\n<table border=\"1\" class=\"dataframe\">\n  <thead>\n    <tr style=\"text-align: right;\">\n      <th></th>\n      <th>sex</th>\n      <th>age</th>\n      <th>height</th>\n      <th>weight</th>\n      <th>waistline</th>\n      <th>sight_left</th>\n      <th>sight_right</th>\n      <th>hear_left</th>\n      <th>hear_right</th>\n      <th>SBP</th>\n      <th>...</th>\n      <th>HDL_chole</th>\n      <th>LDL_chole</th>\n      <th>triglyceride</th>\n      <th>hemoglobin</th>\n      <th>urine_protein</th>\n      <th>serum_creatinine</th>\n      <th>SGOT_AST</th>\n      <th>SGOT_ALT</th>\n      <th>gamma_GTP</th>\n      <th>DRK_YN</th>\n    </tr>\n  </thead>\n  <tbody>\n    <tr>\n      <th>0</th>\n      <td>Male</td>\n      <td>35</td>\n      <td>170</td>\n      <td>75</td>\n      <td>90.0</td>\n      <td>1.0</td>\n      <td>1.0</td>\n      <td>1.0</td>\n      <td>1.0</td>\n      <td>120.0</td>\n      <td>...</td>\n      <td>48.0</td>\n      <td>126.0</td>\n      <td>92.0</td>\n      <td>17.1</td>\n      <td>1.0</td>\n      <td>1.0</td>\n      <td>21.0</td>\n      <td>35.0</td>\n      <td>40.0</td>\n      <td>True</td>\n    </tr>\n    <tr>\n      <th>1</th>\n      <td>Male</td>\n      <td>30</td>\n      <td>180</td>\n      <td>80</td>\n      <td>89.0</td>\n      <td>0.9</td>\n      <td>1.2</td>\n      <td>1.0</td>\n      <td>1.0</td>\n      <td>130.0</td>\n      <td>...</td>\n      <td>55.0</td>\n      <td>148.0</td>\n      <td>121.0</td>\n      <td>15.8</td>\n      <td>1.0</td>\n      <td>0.9</td>\n      <td>20.0</td>\n      <td>36.0</td>\n      <td>27.0</td>\n      <td>False</td>\n    </tr>\n    <tr>\n      <th>2</th>\n      <td>Male</td>\n      <td>40</td>\n      <td>165</td>\n      <td>75</td>\n      <td>91.0</td>\n      <td>1.2</td>\n      <td>1.5</td>\n      <td>1.0</td>\n      <td>1.0</td>\n      <td>120.0</td>\n      <td>...</td>\n      <td>41.0</td>\n      <td>74.0</td>\n      <td>104.0</td>\n      <td>15.8</td>\n      <td>1.0</td>\n      <td>0.9</td>\n      <td>47.0</td>\n      <td>32.0</td>\n      <td>68.0</td>\n      <td>False</td>\n    </tr>\n    <tr>\n      <th>3</th>\n      <td>Male</td>\n      <td>50</td>\n      <td>175</td>\n      <td>80</td>\n      <td>91.0</td>\n      <td>1.5</td>\n      <td>1.2</td>\n      <td>1.0</td>\n      <td>1.0</td>\n      <td>145.0</td>\n      <td>...</td>\n      <td>76.0</td>\n      <td>104.0</td>\n      <td>106.0</td>\n      <td>17.6</td>\n      <td>1.0</td>\n      <td>1.1</td>\n      <td>29.0</td>\n      <td>34.0</td>\n      <td>18.0</td>\n      <td>False</td>\n    </tr>\n    <tr>\n      <th>4</th>\n      <td>Male</td>\n      <td>50</td>\n      <td>165</td>\n      <td>60</td>\n      <td>80.0</td>\n      <td>1.0</td>\n      <td>1.2</td>\n      <td>1.0</td>\n      <td>1.0</td>\n      <td>138.0</td>\n      <td>...</td>\n      <td>61.0</td>\n      <td>117.0</td>\n      <td>104.0</td>\n      <td>13.8</td>\n      <td>1.0</td>\n      <td>0.8</td>\n      <td>19.0</td>\n      <td>12.0</td>\n      <td>25.0</td>\n      <td>False</td>\n    </tr>\n  </tbody>\n</table>\n<p>5 rows × 23 columns</p>\n</div>"
     },
     "execution_count": 8,
     "metadata": {},
     "output_type": "execute_result"
    }
   ],
   "source": [
    "df = pd.read_csv(\"data/DrinkersBodySignals.csv\").drop([\"SMK_stat_type_cd\"], axis=1)\n",
    "df[\"DRK_YN\"] = df[\"DRK_YN\"].map(lambda val: val == \"Y\")\n",
    "column_names = df.columns.values\n",
    "df.head()"
   ]
  },
  {
   "cell_type": "code",
   "execution_count": 9,
   "metadata": {
    "ExecuteTime": {
     "end_time": "2023-11-29T09:23:02.275894600Z",
     "start_time": "2023-11-29T09:23:02.257270500Z"
    }
   },
   "outputs": [],
   "source": [
    "df[\"bmi\"] = (df[\"weight\"].to_numpy() * 10000) / np.square(df[\"height\"].to_numpy())\n",
    "X = df.drop([\"height\", \"weight\", \"DRK_YN\"], axis=1)\n",
    "y = df[\"DRK_YN\"]\n",
    "\n",
    "X_train, X_test, y_train, y_test = train_test_split(X, y, test_size=0.3, random_state=42)"
   ]
  },
  {
   "cell_type": "code",
   "execution_count": 10,
   "metadata": {
    "ExecuteTime": {
     "end_time": "2023-11-29T09:23:02.981596100Z",
     "start_time": "2023-11-29T09:23:02.962239400Z"
    }
   },
   "outputs": [],
   "source": [
    "pat_cls = fcalc.classifier.PatternBinaryClassifier(\n",
    "    X_train.values,\n",
    "    y_train.to_numpy(),\n",
    "    categorical=np.arange(X_train.shape[1]),\n",
    "    method=\"standard\",\n",
    "    alpha=0.1,\n",
    ")"
   ]
  },
  {
   "cell_type": "code",
   "execution_count": 11,
   "metadata": {
    "ExecuteTime": {
     "end_time": "2023-11-29T09:24:44.490343600Z",
     "start_time": "2023-11-29T09:23:03.400692900Z"
    }
   },
   "outputs": [],
   "source": [
    "pat_cls.predict(X_test.values)"
   ]
  },
  {
   "cell_type": "code",
   "execution_count": 12,
   "metadata": {
    "ExecuteTime": {
     "end_time": "2023-11-29T09:25:45.712679800Z",
     "start_time": "2023-11-29T09:25:45.703175100Z"
    }
   },
   "outputs": [
    {
     "name": "stdout",
     "output_type": "stream",
     "text": [
      "0.7244444444444444\n",
      "0.75\n"
     ]
    }
   ],
   "source": [
    "print(accuracy_score(y_test, pat_cls.predictions))\n",
    "print(f1_score(y_test, pat_cls.predictions))"
   ]
  },
  {
   "cell_type": "code",
   "execution_count": 250,
   "outputs": [],
   "source": [],
   "metadata": {
    "collapsed": false,
    "ExecuteTime": {
     "end_time": "2023-11-29T04:27:14.907193400Z",
     "start_time": "2023-11-29T04:27:14.898069100Z"
    }
   }
  }
 ],
 "metadata": {
  "kernelspec": {
   "display_name": "base",
   "language": "python",
   "name": "python3"
  },
  "language_info": {
   "codemirror_mode": {
    "name": "ipython",
    "version": 3
   },
   "file_extension": ".py",
   "mimetype": "text/x-python",
   "name": "python",
   "nbconvert_exporter": "python",
   "pygments_lexer": "ipython3",
   "version": "3.10.9"
  },
  "orig_nbformat": 4
 },
 "nbformat": 4,
 "nbformat_minor": 2
}
