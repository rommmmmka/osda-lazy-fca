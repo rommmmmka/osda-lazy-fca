{
 "cells": [
  {
   "cell_type": "code",
   "execution_count": 33,
   "metadata": {
    "ExecuteTime": {
     "end_time": "2023-11-29T04:48:20.796270500Z",
     "start_time": "2023-11-29T04:48:20.791203300Z"
    }
   },
   "outputs": [],
   "source": [
    "import fcalc\n",
    "import pandas as pd\n",
    "import numpy as np\n",
    "from sklearn.metrics import accuracy_score, f1_score\n",
    "from sklearn.model_selection import train_test_split"
   ]
  },
  {
   "cell_type": "markdown",
   "metadata": {},
   "source": [
    "# Binarized data"
   ]
  },
  {
   "cell_type": "code",
   "execution_count": 85,
   "metadata": {
    "ExecuteTime": {
     "end_time": "2023-11-29T05:10:37.258545900Z",
     "start_time": "2023-11-29T05:10:37.237583400Z"
    }
   },
   "outputs": [
    {
     "data": {
      "text/plain": "  school sex  age address famsize Pstatus  Medu  Fedu  traveltime  studytime  \\\n0     GP   F   18       U     GT3       A     4     4           2          2   \n1     GP   F   17       U     GT3       T     1     1           1          2   \n2     GP   F   15       U     LE3       T     1     1           1          2   \n3     GP   F   15       U     GT3       T     4     2           1          3   \n4     GP   F   16       U     GT3       T     3     3           1          2   \n\n   ...  internet romantic famrel freetime goout Dalc Walc health absences  \\\n0  ...        no       no      4        3     4    1    1      3        6   \n1  ...       yes       no      5        3     3    1    1      3        4   \n2  ...       yes       no      4        3     2    2    3      3       10   \n3  ...       yes      yes      3        2     2    1    1      5        2   \n4  ...        no       no      4        3     2    1    2      5        4   \n\n      G3  \n0  False  \n1  False  \n2   True  \n3   True  \n4   True  \n\n[5 rows x 27 columns]",
      "text/html": "<div>\n<style scoped>\n    .dataframe tbody tr th:only-of-type {\n        vertical-align: middle;\n    }\n\n    .dataframe tbody tr th {\n        vertical-align: top;\n    }\n\n    .dataframe thead th {\n        text-align: right;\n    }\n</style>\n<table border=\"1\" class=\"dataframe\">\n  <thead>\n    <tr style=\"text-align: right;\">\n      <th></th>\n      <th>school</th>\n      <th>sex</th>\n      <th>age</th>\n      <th>address</th>\n      <th>famsize</th>\n      <th>Pstatus</th>\n      <th>Medu</th>\n      <th>Fedu</th>\n      <th>traveltime</th>\n      <th>studytime</th>\n      <th>...</th>\n      <th>internet</th>\n      <th>romantic</th>\n      <th>famrel</th>\n      <th>freetime</th>\n      <th>goout</th>\n      <th>Dalc</th>\n      <th>Walc</th>\n      <th>health</th>\n      <th>absences</th>\n      <th>G3</th>\n    </tr>\n  </thead>\n  <tbody>\n    <tr>\n      <th>0</th>\n      <td>GP</td>\n      <td>F</td>\n      <td>18</td>\n      <td>U</td>\n      <td>GT3</td>\n      <td>A</td>\n      <td>4</td>\n      <td>4</td>\n      <td>2</td>\n      <td>2</td>\n      <td>...</td>\n      <td>no</td>\n      <td>no</td>\n      <td>4</td>\n      <td>3</td>\n      <td>4</td>\n      <td>1</td>\n      <td>1</td>\n      <td>3</td>\n      <td>6</td>\n      <td>False</td>\n    </tr>\n    <tr>\n      <th>1</th>\n      <td>GP</td>\n      <td>F</td>\n      <td>17</td>\n      <td>U</td>\n      <td>GT3</td>\n      <td>T</td>\n      <td>1</td>\n      <td>1</td>\n      <td>1</td>\n      <td>2</td>\n      <td>...</td>\n      <td>yes</td>\n      <td>no</td>\n      <td>5</td>\n      <td>3</td>\n      <td>3</td>\n      <td>1</td>\n      <td>1</td>\n      <td>3</td>\n      <td>4</td>\n      <td>False</td>\n    </tr>\n    <tr>\n      <th>2</th>\n      <td>GP</td>\n      <td>F</td>\n      <td>15</td>\n      <td>U</td>\n      <td>LE3</td>\n      <td>T</td>\n      <td>1</td>\n      <td>1</td>\n      <td>1</td>\n      <td>2</td>\n      <td>...</td>\n      <td>yes</td>\n      <td>no</td>\n      <td>4</td>\n      <td>3</td>\n      <td>2</td>\n      <td>2</td>\n      <td>3</td>\n      <td>3</td>\n      <td>10</td>\n      <td>True</td>\n    </tr>\n    <tr>\n      <th>3</th>\n      <td>GP</td>\n      <td>F</td>\n      <td>15</td>\n      <td>U</td>\n      <td>GT3</td>\n      <td>T</td>\n      <td>4</td>\n      <td>2</td>\n      <td>1</td>\n      <td>3</td>\n      <td>...</td>\n      <td>yes</td>\n      <td>yes</td>\n      <td>3</td>\n      <td>2</td>\n      <td>2</td>\n      <td>1</td>\n      <td>1</td>\n      <td>5</td>\n      <td>2</td>\n      <td>True</td>\n    </tr>\n    <tr>\n      <th>4</th>\n      <td>GP</td>\n      <td>F</td>\n      <td>16</td>\n      <td>U</td>\n      <td>GT3</td>\n      <td>T</td>\n      <td>3</td>\n      <td>3</td>\n      <td>1</td>\n      <td>2</td>\n      <td>...</td>\n      <td>no</td>\n      <td>no</td>\n      <td>4</td>\n      <td>3</td>\n      <td>2</td>\n      <td>1</td>\n      <td>2</td>\n      <td>5</td>\n      <td>4</td>\n      <td>True</td>\n    </tr>\n  </tbody>\n</table>\n<p>5 rows × 27 columns</p>\n</div>"
     },
     "execution_count": 85,
     "metadata": {},
     "output_type": "execute_result"
    }
   ],
   "source": [
    "df = pd.read_csv(\"data/EffectsOnMathsStudy.csv\").drop(\n",
    "    [\"G1\", \"G2\", \"Mjob\", \"Fjob\", \"reason\", \"guardian\"], axis=1\n",
    ")\n",
    "df[\"G3\"] = df[\"G3\"].map(lambda val: val >= 10)\n",
    "column_names = df.columns.values\n",
    "df.head()"
   ]
  },
  {
   "cell_type": "code",
   "execution_count": 86,
   "metadata": {
    "ExecuteTime": {
     "end_time": "2023-11-29T05:10:37.867249800Z",
     "start_time": "2023-11-29T05:10:37.839541500Z"
    }
   },
   "outputs": [],
   "source": [
    "X = df.drop([\"G3\"], axis=1)\n",
    "\n",
    "for column, v in [\n",
    "    (\"school\", \"GP\"),\n",
    "    (\"sex\", \"M\"),\n",
    "    (\"address\", \"U\"),\n",
    "    (\"famsize\", \"GT3\"),\n",
    "    (\"Pstatus\", \"T\"),\n",
    "]:\n",
    "    X[column] = X[column].map(lambda val: val == v)\n",
    "    \n",
    "for column in [\n",
    "    \"schoolsup\",\n",
    "    \"famsup\",\n",
    "    \"paid\",\n",
    "    \"activities\",\n",
    "    \"nursery\",\n",
    "    \"higher\",\n",
    "    \"internet\",\n",
    "    \"romantic\",\n",
    "]:\n",
    "    X[column] = X[column].map(lambda val: val == \"yes\")\n",
    "    \n",
    "for column in [\n",
    "    \"age\",\n",
    "    \"Medu\",\n",
    "    \"Fedu\",\n",
    "    \"traveltime\",\n",
    "    \"studytime\",\n",
    "    \"failures\",\n",
    "    \"famrel\",\n",
    "    \"freetime\",\n",
    "    \"goout\",\n",
    "    \"Dalc\",\n",
    "    \"Walc\",\n",
    "    \"health\",\n",
    "    \"absences\"\n",
    "]:\n",
    "    mean = X[column].mean()\n",
    "    X[column] = X[column].map(lambda val: val > mean)\n",
    "\n",
    "y = df[\"G3\"]\n",
    "\n",
    "X_train, X_test, y_train, y_test = train_test_split(X, y, test_size=0.3, random_state=42)"
   ]
  },
  {
   "cell_type": "code",
   "execution_count": 87,
   "metadata": {
    "ExecuteTime": {
     "end_time": "2023-11-29T05:10:38.438358800Z",
     "start_time": "2023-11-29T05:10:38.430837700Z"
    }
   },
   "outputs": [],
   "source": [
    "bin_cls = fcalc.classifier.BinarizedBinaryClassifier(\n",
    "    X_train.values, y_train.to_numpy(), method=\"standard\", alpha=0.2\n",
    ")"
   ]
  },
  {
   "cell_type": "code",
   "execution_count": 88,
   "metadata": {
    "ExecuteTime": {
     "end_time": "2023-11-29T05:10:38.965774Z",
     "start_time": "2023-11-29T05:10:38.797929800Z"
    }
   },
   "outputs": [],
   "source": [
    "bin_cls.predict(X_test.values)"
   ]
  },
  {
   "cell_type": "code",
   "execution_count": 89,
   "metadata": {
    "ExecuteTime": {
     "end_time": "2023-11-29T05:10:39.924027900Z",
     "start_time": "2023-11-29T05:10:39.916555900Z"
    }
   },
   "outputs": [
    {
     "name": "stdout",
     "output_type": "stream",
     "text": [
      "0.6134453781512605\n",
      "0.6078902149094931\n"
     ]
    }
   ],
   "source": [
    "print(accuracy_score(y_test, bin_cls.predictions))\n",
    "print(f1_score(y_test, bin_cls.predictions, average=\"weighted\"))"
   ]
  },
  {
   "cell_type": "markdown",
   "metadata": {},
   "source": [
    "# Pattern structures"
   ]
  },
  {
   "cell_type": "code",
   "execution_count": 80,
   "metadata": {
    "ExecuteTime": {
     "end_time": "2023-11-29T04:50:39.590291800Z",
     "start_time": "2023-11-29T04:50:39.573825100Z"
    }
   },
   "outputs": [
    {
     "data": {
      "text/plain": "  school sex  age address famsize Pstatus  Medu  Fedu  traveltime  studytime  \\\n0     GP   F   18       U     GT3       A     4     4           2          2   \n1     GP   F   17       U     GT3       T     1     1           1          2   \n2     GP   F   15       U     LE3       T     1     1           1          2   \n3     GP   F   15       U     GT3       T     4     2           1          3   \n4     GP   F   16       U     GT3       T     3     3           1          2   \n\n   ...  internet romantic famrel freetime goout Dalc Walc health absences  \\\n0  ...        no       no      4        3     4    1    1      3        6   \n1  ...       yes       no      5        3     3    1    1      3        4   \n2  ...       yes       no      4        3     2    2    3      3       10   \n3  ...       yes      yes      3        2     2    1    1      5        2   \n4  ...        no       no      4        3     2    1    2      5        4   \n\n      G3  \n0  False  \n1  False  \n2   True  \n3   True  \n4   True  \n\n[5 rows x 27 columns]",
      "text/html": "<div>\n<style scoped>\n    .dataframe tbody tr th:only-of-type {\n        vertical-align: middle;\n    }\n\n    .dataframe tbody tr th {\n        vertical-align: top;\n    }\n\n    .dataframe thead th {\n        text-align: right;\n    }\n</style>\n<table border=\"1\" class=\"dataframe\">\n  <thead>\n    <tr style=\"text-align: right;\">\n      <th></th>\n      <th>school</th>\n      <th>sex</th>\n      <th>age</th>\n      <th>address</th>\n      <th>famsize</th>\n      <th>Pstatus</th>\n      <th>Medu</th>\n      <th>Fedu</th>\n      <th>traveltime</th>\n      <th>studytime</th>\n      <th>...</th>\n      <th>internet</th>\n      <th>romantic</th>\n      <th>famrel</th>\n      <th>freetime</th>\n      <th>goout</th>\n      <th>Dalc</th>\n      <th>Walc</th>\n      <th>health</th>\n      <th>absences</th>\n      <th>G3</th>\n    </tr>\n  </thead>\n  <tbody>\n    <tr>\n      <th>0</th>\n      <td>GP</td>\n      <td>F</td>\n      <td>18</td>\n      <td>U</td>\n      <td>GT3</td>\n      <td>A</td>\n      <td>4</td>\n      <td>4</td>\n      <td>2</td>\n      <td>2</td>\n      <td>...</td>\n      <td>no</td>\n      <td>no</td>\n      <td>4</td>\n      <td>3</td>\n      <td>4</td>\n      <td>1</td>\n      <td>1</td>\n      <td>3</td>\n      <td>6</td>\n      <td>False</td>\n    </tr>\n    <tr>\n      <th>1</th>\n      <td>GP</td>\n      <td>F</td>\n      <td>17</td>\n      <td>U</td>\n      <td>GT3</td>\n      <td>T</td>\n      <td>1</td>\n      <td>1</td>\n      <td>1</td>\n      <td>2</td>\n      <td>...</td>\n      <td>yes</td>\n      <td>no</td>\n      <td>5</td>\n      <td>3</td>\n      <td>3</td>\n      <td>1</td>\n      <td>1</td>\n      <td>3</td>\n      <td>4</td>\n      <td>False</td>\n    </tr>\n    <tr>\n      <th>2</th>\n      <td>GP</td>\n      <td>F</td>\n      <td>15</td>\n      <td>U</td>\n      <td>LE3</td>\n      <td>T</td>\n      <td>1</td>\n      <td>1</td>\n      <td>1</td>\n      <td>2</td>\n      <td>...</td>\n      <td>yes</td>\n      <td>no</td>\n      <td>4</td>\n      <td>3</td>\n      <td>2</td>\n      <td>2</td>\n      <td>3</td>\n      <td>3</td>\n      <td>10</td>\n      <td>True</td>\n    </tr>\n    <tr>\n      <th>3</th>\n      <td>GP</td>\n      <td>F</td>\n      <td>15</td>\n      <td>U</td>\n      <td>GT3</td>\n      <td>T</td>\n      <td>4</td>\n      <td>2</td>\n      <td>1</td>\n      <td>3</td>\n      <td>...</td>\n      <td>yes</td>\n      <td>yes</td>\n      <td>3</td>\n      <td>2</td>\n      <td>2</td>\n      <td>1</td>\n      <td>1</td>\n      <td>5</td>\n      <td>2</td>\n      <td>True</td>\n    </tr>\n    <tr>\n      <th>4</th>\n      <td>GP</td>\n      <td>F</td>\n      <td>16</td>\n      <td>U</td>\n      <td>GT3</td>\n      <td>T</td>\n      <td>3</td>\n      <td>3</td>\n      <td>1</td>\n      <td>2</td>\n      <td>...</td>\n      <td>no</td>\n      <td>no</td>\n      <td>4</td>\n      <td>3</td>\n      <td>2</td>\n      <td>1</td>\n      <td>2</td>\n      <td>5</td>\n      <td>4</td>\n      <td>True</td>\n    </tr>\n  </tbody>\n</table>\n<p>5 rows × 27 columns</p>\n</div>"
     },
     "execution_count": 80,
     "metadata": {},
     "output_type": "execute_result"
    }
   ],
   "source": [
    "df = pd.read_csv(\"data/EffectsOnMathsStudy.csv\").drop(\n",
    "    [\"G1\", \"G2\", \"Mjob\", \"Fjob\", \"reason\", \"guardian\"], axis=1\n",
    ")\n",
    "df[\"G3\"] = df[\"G3\"].map(lambda val: val >= 10)\n",
    "column_names = df.columns.values\n",
    "df.head()"
   ]
  },
  {
   "cell_type": "code",
   "execution_count": 81,
   "metadata": {
    "ExecuteTime": {
     "end_time": "2023-11-29T04:50:39.832626700Z",
     "start_time": "2023-11-29T04:50:39.772590200Z"
    }
   },
   "outputs": [],
   "source": [
    "X = df.drop([\"G3\"], axis=1)\n",
    "y = df[\"G3\"]\n",
    "\n",
    "X_train, X_test, y_train, y_test = train_test_split(X, y, test_size=0.3, random_state=42)"
   ]
  },
  {
   "cell_type": "code",
   "execution_count": 82,
   "metadata": {
    "ExecuteTime": {
     "end_time": "2023-11-29T04:50:39.942564700Z",
     "start_time": "2023-11-29T04:50:39.922286400Z"
    }
   },
   "outputs": [],
   "source": [
    "pat_cls = fcalc.classifier.PatternBinaryClassifier(\n",
    "    X_train.values,\n",
    "    y_train.to_numpy(),\n",
    "    categorical=np.arange(X_train.shape[1]),\n",
    "    method=\"standard\",\n",
    "    alpha=0,\n",
    ")"
   ]
  },
  {
   "cell_type": "code",
   "execution_count": 83,
   "metadata": {
    "ExecuteTime": {
     "end_time": "2023-11-29T04:50:44.341028600Z",
     "start_time": "2023-11-29T04:50:40.048048400Z"
    }
   },
   "outputs": [],
   "source": [
    "pat_cls.predict(X_test.values)"
   ]
  },
  {
   "cell_type": "code",
   "execution_count": 84,
   "metadata": {
    "ExecuteTime": {
     "end_time": "2023-11-29T04:50:44.354042500Z",
     "start_time": "2023-11-29T04:50:44.343471700Z"
    }
   },
   "outputs": [
    {
     "name": "stdout",
     "output_type": "stream",
     "text": [
      "0.6554621848739496\n",
      "0.5744025180862211\n"
     ]
    }
   ],
   "source": [
    "print(accuracy_score(y_test, pat_cls.predictions))\n",
    "print(f1_score(y_test, pat_cls.predictions, average=\"weighted\"))"
   ]
  },
  {
   "cell_type": "code",
   "execution_count": 250,
   "outputs": [],
   "source": [],
   "metadata": {
    "collapsed": false,
    "ExecuteTime": {
     "end_time": "2023-11-29T04:27:14.907193400Z",
     "start_time": "2023-11-29T04:27:14.898069100Z"
    }
   }
  }
 ],
 "metadata": {
  "kernelspec": {
   "display_name": "base",
   "language": "python",
   "name": "python3"
  },
  "language_info": {
   "codemirror_mode": {
    "name": "ipython",
    "version": 3
   },
   "file_extension": ".py",
   "mimetype": "text/x-python",
   "name": "python",
   "nbconvert_exporter": "python",
   "pygments_lexer": "ipython3",
   "version": "3.10.9"
  },
  "orig_nbformat": 4
 },
 "nbformat": 4,
 "nbformat_minor": 2
}
